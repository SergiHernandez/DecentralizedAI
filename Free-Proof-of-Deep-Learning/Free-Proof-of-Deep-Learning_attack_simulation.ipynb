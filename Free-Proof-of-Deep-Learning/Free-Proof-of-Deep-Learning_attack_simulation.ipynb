{
 "cells": [
  {
   "cell_type": "code",
   "execution_count": 9,
   "metadata": {},
   "outputs": [],
   "source": [
    "import matplotlib.pyplot as plt\n",
    "import numpy as np\n",
    "from numpy.random import poisson\n",
    "from IPython.display import clear_output\n",
    "import random\n",
    "import datetime\n",
    "import math"
   ]
  },
  {
   "cell_type": "markdown",
   "metadata": {},
   "source": [
    "# DEFINE EASY Learning task"
   ]
  },
  {
   "cell_type": "code",
   "execution_count": 10,
   "metadata": {},
   "outputs": [],
   "source": [
    "class Problem:\n",
    "    def __init__(self, submitter_address, x_train, y_train, x_test, y_test):\n",
    "        self.submitter_address = submitter_address\n",
    "        self.x_train = x_train\n",
    "        self.y_train = y_train\n",
    "        self.x_test = x_test\n",
    "        self.y_test = y_test\n",
    "        self.model_hashes = {}\n",
    "        self.y_hats = {}\n",
    "        self.losses = {}\n",
    "        self.consensus = False\n",
    "        \n",
    "    def sendTrainDataToMiner(self, miner):\n",
    "        miner.receiveTrainingData(self.x_train, self.y_train)\n",
    "        \n",
    "    def collectModelHashes(self, miner, _hash):\n",
    "        self.model_hashes[miner] = _hash\n",
    "        \n",
    "    def sendXTestToMiner(self, miner):\n",
    "        miner.receiveXTest(self.x_test)\n",
    "        \n",
    "    def collectYHat(self, miner, y_hat):\n",
    "        self.y_hats[miner] = y_hat\n",
    "        \n",
    "    def computeTestLosses(self):\n",
    "        for miner in self.y_hats:\n",
    "            loss = 0\n",
    "            for i in range(len(self.y_hats[miner])):\n",
    "                loss += (self.y_test[i] - self.y_hats[miner][i])**2\n",
    "            self.losses[miner] = loss\n",
    "    \n",
    "    def getMinerWithMinLoss(self):\n",
    "        return min(self.losses, key=self.losses.get)\n",
    "    \n",
    "    def sendWinCertificate(self):\n",
    "        winner = self.getMinerWithMinLoss()\n",
    "        winner.receiveWinCertificate(self)\n",
    "    \n",
    "    def sendHashAndYHat(self, miner):\n",
    "        winner = self.getMinerWithMinLoss()\n",
    "        miner.receiveHashAndYHat(self.model_hashes[winner], self.y_hats[winner])\n",
    "    \n",
    "    def reportByzantineWinner(self, block):\n",
    "        winner = block.miner\n",
    "        func, w0, w1 = block.solution\n",
    "        if hash(w0+w1) != self.model_hashes[winner]:\n",
    "            if winner in self.losses.keys():\n",
    "                del self.losses[winner]\n",
    "            self.consensus = False\n",
    "            return\n",
    "        for i in range(len(self.y_hats[winner])):\n",
    "            if self.y_hats[winner] != func(self.x_test[i], w0, w1):\n",
    "                if winner in self.losses.keys():\n",
    "                    del self.losses[winner]\n",
    "                self.consensus = False\n",
    "                return\n",
    "        self.consensus = True          "
   ]
  },
  {
   "cell_type": "markdown",
   "metadata": {},
   "source": [
    "# Utils"
   ]
  },
  {
   "cell_type": "code",
   "execution_count": 11,
   "metadata": {},
   "outputs": [],
   "source": [
    "def generateAddress():\n",
    "    return hex(random.randint(0, 2**256))"
   ]
  },
  {
   "cell_type": "markdown",
   "metadata": {},
   "source": [
    "# DEFINE NETWORK ENTITIES"
   ]
  },
  {
   "cell_type": "code",
   "execution_count": 12,
   "metadata": {},
   "outputs": [],
   "source": [
    "class Miner:\n",
    "    def __init__(self, computing_power=1):\n",
    "        super(Miner, self).__init__()\n",
    "        self.miner_address = generateAddress()\n",
    "        self.local_history = []\n",
    "        self.computing_power = 1\n",
    "        self.x_train = None\n",
    "        self.y_train = None\n",
    "        self.x_test = None\n",
    "        self.y_hat = None\n",
    "        self.w0 = 0\n",
    "        self.w1 = 0\n",
    "        self.win_hash = None\n",
    "        self.win_y_hat = None\n",
    "    \n",
    "    # THE FOLLOWING FUNCTIONS REPRESENT DIFFERENT STEPS OF THE PROTOCOL\n",
    "    \n",
    "    def receiveTrainingData(self, x_train, y_train):\n",
    "        self.x_train = x_train\n",
    "        self.y_train = y_train\n",
    "        \n",
    "    def predict(self, _x, _w0, _w1):\n",
    "        return _w0 + _w1*_x\n",
    "        \n",
    "    def train(self):\n",
    "        self.w0 = random.uniform(-1, 1) * 3\n",
    "        self.w1 = random.uniform(-1, 1)\n",
    "        self.alpha = random.uniform(0.0001, 0.02)        \n",
    "        n = len(self.y_train)\n",
    "        for i in range(ROUND_TIMEOUT):\n",
    "            total_error = 0\n",
    "            total_error_x = 0\n",
    "            for j in range(n):\n",
    "                y_pred = self.predict(self.x_train[j], self.w0, self.w1)\n",
    "                total_error += self.y_train[j] - y_pred\n",
    "                total_error_x += self.x_train[j] * (self.y_train[j] - y_pred)\n",
    "            dw0 = (-2/n) * total_error\n",
    "            dw1 = (-2/n) * total_error_x\n",
    "\n",
    "            self.w0 = self.w0 - self.alpha*dw0\n",
    "            self.w1 = self.w1 - self.alpha*dw1\n",
    "            \n",
    "    def sendModelHashToSubmitter(self, submitter):\n",
    "        submitter.collectModelHashes(self, hash(self.w0+self.w1))\n",
    "        \n",
    "    def receiveXTest(self, x_test):\n",
    "        self.x_test = x_test\n",
    "        \n",
    "    def predictYHat(self):\n",
    "        self.y_hat = [None]*len(self.x_test)\n",
    "        for i in range(len(self.x_test)):\n",
    "            self.y_hat[i] = self.predict(self.x_test[i], self.w0, self.w1)\n",
    "    \n",
    "    def sendYHat(self, submitter):\n",
    "        submitter.collectYHat(self, self.y_hat)\n",
    "        \n",
    "    def receiveWinCertificate(self, certificate):\n",
    "        self.buildBlock(certificate)\n",
    "        \n",
    "    def buildBlock(self, certificate):\n",
    "        block = Block([], (self.predict, self.w0, self.w1), hash(str(self.local_history[-1].data)), certificate, miner=self)\n",
    "        self.local_history.append(block)\n",
    "        \n",
    "    def broadcastBlock(self, net):\n",
    "        for miner in net.miners:\n",
    "            if miner != self:\n",
    "                miner.confirmBlock(self.local_history[-1])\n",
    "            \n",
    "    def receiveHashAndYHat(self, win_hash, win_y_hat):\n",
    "        self.win_hash = win_hash\n",
    "        self.win_y_hat = win_y_hat\n",
    "            \n",
    "    def confirmBlock(self, block):\n",
    "        try:\n",
    "            func, w0, w1 = block.solution\n",
    "            submitter = block.submitter\n",
    "            if hash(w0+w1) != self.win_hash:\n",
    "                submitter.reportByzantineWinner(block)\n",
    "            for i in range(len(self.win_y_hat)):\n",
    "                if self.win_y_hat[i] != func(self.x_test[i], w0, w1):\n",
    "                    submitter.reportByzantineWinner(block)\n",
    "        except:\n",
    "            return submitter.reportByzantineWinner(block)\n",
    "        self.local_history.append(block)        \n",
    "            \n",
    "    def initRound(self):\n",
    "        self.w0 = 0\n",
    "        self.w1 = 0\n",
    "        self.alpha = 0\n",
    "        self.x_train = None\n",
    "        self.y_train = None\n",
    "        self.x_test = None\n",
    "        self.y_hat = None\n",
    "        self.win_hash = None\n",
    "        self.win_y_hat = None\n"
   ]
  },
  {
   "cell_type": "code",
   "execution_count": 13,
   "metadata": {},
   "outputs": [],
   "source": [
    "class Submitter:\n",
    "    def __init__(self):\n",
    "        super(Submitter, self).__init__()\n",
    "        self.submitter_address = generateAddress()"
   ]
  },
  {
   "cell_type": "code",
   "execution_count": 40,
   "metadata": {},
   "outputs": [],
   "source": [
    "class ByzantineMiner (Miner, Submitter):\n",
    "    def __init__(self):\n",
    "        super(ByzantineMiner, self).__init__()\n",
    "        self.pre_computed_w0 = 7.989730819058092\n",
    "        self.pre_computed_w1 = -0.8539225564991229\n",
    "        \n",
    "    #def buildBlock(self, certificate):\n",
    "        #block = Block([], (self.predict, 3, 2), hash(str(self.local_history[-1].data)), certificate, miner=self)\n",
    "        #self.local_history.append(block)\n",
    "        \n",
    "    def preSolvedProblem(self):\n",
    "        self.w0 = self.pre_computed_w0\n",
    "        self.w1 = self.pre_computed_w1\n"
   ]
  },
  {
   "cell_type": "code",
   "execution_count": 41,
   "metadata": {},
   "outputs": [],
   "source": [
    "class Client:\n",
    "    def __init__(self):\n",
    "        super(Client, self).__init__()\n",
    "        self.client_address = generateAddress()\n",
    "        \n",
    "    def generateTransaction():\n",
    "        pass"
   ]
  },
  {
   "cell_type": "code",
   "execution_count": 42,
   "metadata": {},
   "outputs": [],
   "source": [
    "class Block:\n",
    "    def __init__(self, data, solution, previous_hash, submitter, miner=hex(0)):\n",
    "        self.data = data #transactions\n",
    "        self.miner = miner\n",
    "        self.reward = 2.5\n",
    "        self.previous_hash = previous_hash\n",
    "        self.submitter = submitter\n",
    "        self.solution = solution\n",
    "        self.timestamp = datetime.datetime.now()\n",
    "        self.nonce = 0\n",
    "        #self.hash = self.generate_hash()"
   ]
  },
  {
   "cell_type": "code",
   "execution_count": 43,
   "metadata": {},
   "outputs": [],
   "source": [
    "class GenesisBlock(Block):\n",
    "    def __init__(self, data):\n",
    "        super(GenesisBlock, self).__init__(data, None, None, None)"
   ]
  },
  {
   "cell_type": "code",
   "execution_count": 44,
   "metadata": {},
   "outputs": [],
   "source": [
    "class Transaction:\n",
    "    def __init__(self, sender, receiver, amount):\n",
    "        super(Transaction, self).__init__()\n",
    "        self.sender = sender\n",
    "        self.receiver = receiver\n",
    "        self.amount = amount\n",
    "        \n",
    "class Mint(Transaction):\n",
    "    def __init__(self, receiver, amount):\n",
    "        super(Mint, self).__init__(hex(0), receiver, amount)"
   ]
  },
  {
   "cell_type": "code",
   "execution_count": 45,
   "metadata": {},
   "outputs": [],
   "source": [
    "class Network:\n",
    "    def __init__(self, n=1, f=0):\n",
    "        self.n = n # total number of nodes\n",
    "        self.f = f # total number of dishonest nodes\n",
    "        self.longest_chain = [GenesisBlock(\"GenesisBlock\")]\n",
    "        self.honest_miners = [Miner() for i in range(n-f)]\n",
    "        self.dishonest_miners = [ByzantineMiner() for i in range(f)]\n",
    "        self.miners = self.honest_miners + self.dishonest_miners\n",
    "        for miner in self.miners:\n",
    "            miner.local_history = self.longest_chain[:]\n",
    "        self.problem_pool = []\n",
    "        self.transaction_pool = []\n",
    "        \n",
    "    def submitProblem(self, problem):\n",
    "        self.problem_pool.append(problem)\n",
    "        \n",
    "    def getProblem(self):\n",
    "        return self.problem_pool.pop(0)\n",
    "    \n",
    "    def updateLongestChain(self):\n",
    "        longest_size = 0\n",
    "        for miner in self.miners:\n",
    "            if len(miner.local_history) > longest_size:\n",
    "                self.longest_chain = miner.local_history[:]\n",
    "                \n",
    "    def fillPoolWithRandomTransactions(self, n_txs=1000):\n",
    "        for i in range(n_txs):\n",
    "            self.transaction.pool.append(Transaction(generateAddress(),generateAddress(),random.randint(0, 12)))\n",
    "            \n",
    "    def getBalance(self, address):\n",
    "        balance = 0\n",
    "        for block in self.longest_chain:\n",
    "            if type(block)==type(GenesisBlock(\"\")): continue\n",
    "            if address == block.miner.miner_address:\n",
    "                balance += block.reward\n",
    "            for tx in block.data:\n",
    "                if address == tx.sender:\n",
    "                    balance -= tx.amount\n",
    "                if address == tx.receiver:\n",
    "                    balance += tx.amount\n",
    "        return balance"
   ]
  },
  {
   "cell_type": "markdown",
   "metadata": {},
   "source": [
    "# All honest"
   ]
  },
  {
   "cell_type": "code",
   "execution_count": 63,
   "metadata": {},
   "outputs": [
    {
     "name": "stdout",
     "output_type": "stream",
     "text": [
      "Round 999\n"
     ]
    },
    {
     "data": {
      "image/png": "[encoded data removed]",
      "text/plain": [
       "<Figure size 432x1152 with 1 Axes>"
      ]
     },
     "metadata": {},
     "output_type": "display_data"
    }
   ],
   "source": [
    "MAX_ROUNDS = 1000\n",
    "ROUND_TIMEOUT = 500 #number of train epochs before comparing model accuracies\n",
    "\n",
    "net = Network(n=5, f=0)\n",
    "\n",
    "percent = 0.5 # Percentage of problems submitted by Byzantine nodes\n",
    "\n",
    "for i in range(MAX_ROUNDS):\n",
    "    if percent> 0 and i % int(1/percent) == 0 and net.f>0:\n",
    "        net.submitProblem(Problem(net.dishonest_miners[0].submitter_address,\n",
    "                              x_train = [0, 2, 5, 1, 7, 9, 2, 3, 1, 0.5],\n",
    "                              y_train = [7, 8, 4, 9, 2, 0, 4, 6, 9, 6],\n",
    "                              x_test = [0.5, 2.1, 4.2, 0.6, 7.1, 9.2, 1, 3, 1],\n",
    "                              y_test = [6, 8, 3, 10, 2.2, 0.1, 3.2, 6.1, 8.8]))\n",
    "    else:\n",
    "        net.submitProblem(Problem(Submitter().submitter_address,\n",
    "                              x_train = [0, 2, 5, 1, 7, 9, 2, 3, 1, 0.5],\n",
    "                              y_train = [7, 8, 4, 9, 2, 0, 4, 6, 9, 6],\n",
    "                              x_test = [0.5, 2.1, 4.2, 0.6, 7.1, 9.2, 1, 3, 1],\n",
    "                              y_test = [6, 8, 3, 10, 2.2, 0.1, 3.2, 6.1, 8.8]))\n",
    "\n",
    "n_problems = len(net.problem_pool)\n",
    "for r in range(n_problems):\n",
    "    #print(f\"--START OF ROUND {r}--\")\n",
    "    #print(\"-Training Phase-\")\n",
    "\n",
    "    #print(\"   Submitter sending train data to miners\")\n",
    "    submitter_r = net.getProblem()\n",
    "    for miner in net.miners:\n",
    "        miner.initRound()\n",
    "        submitter_r.sendTrainDataToMiner(miner)\n",
    "    \n",
    "    #print(\"   Miners training...\")\n",
    "    for miner in net.miners:\n",
    "        if isinstance(miner, ByzantineMiner) and submitter_r.submitter_address == miner.submitter_address:\n",
    "            miner.preSolvedProblem()\n",
    "        else:\n",
    "            miner.train()\n",
    "    #print(\"   Training timeout\")\n",
    "\n",
    "    #print(\"   Miners sending model hashes to submitter\")\n",
    "    for miner in net.miners:\n",
    "        miner.sendModelHashToSubmitter(submitter_r)\n",
    "   \n",
    "    #print(\"-Evaluation Phase-\")\n",
    "    #print(\"   Submitter broadcasting X_test\")\n",
    "    for miner in net.miners:\n",
    "        submitter_r.sendXTestToMiner(miner)\n",
    "        \n",
    "    #print(\"   Miners predicting Y_test^hat\")\n",
    "    for miner in net.miners:\n",
    "        miner.predictYHat()\n",
    "    \n",
    "    #print(\"   Miners sending Y_test^hat to submitter\")\n",
    "    for miner in net.miners:\n",
    "        miner.sendYHat(submitter_r)\n",
    "    \n",
    "    #print(\"   Submitter computing losses\")\n",
    "    submitter_r.computeTestLosses()\n",
    "    \n",
    "    #print(\"-Awarding phase-\")\n",
    "    while len(submitter_r.losses)>0 and not submitter_r.consensus:\n",
    "        submitter_r.consensus = True\n",
    "        winner = submitter_r.getMinerWithMinLoss()\n",
    "        #print(\"   Miner with a greater model:\",winner)\n",
    "        #print(\"   Submitter sending signed certificate of win\")\n",
    "        submitter_r.sendWinCertificate()\n",
    "        #print(\"   Submitter broadcasting info to miners to validate Block\")\n",
    "        for miner in net.miners:\n",
    "            submitter_r.sendHashAndYHat(miner)\n",
    "        #print(\"   Winner broadcasting Block\")\n",
    "        winner.broadcastBlock(net)\n",
    "    \n",
    "    #print(f\"--END OF ROUND {r}--\\n\")\n",
    "    net.updateLongestChain()\n",
    "    #print(net.longest_chain, \"\\n\")\n",
    "    \n",
    "    miner_balances = [net.getBalance(net.miners[i].miner_address) for i in range(net.n)]\n",
    "    plt.ion()\n",
    "    if sum(miner_balances) != 0:\n",
    "        if (r+1)%50 == 0 or r+1==MAX_ROUNDS:\n",
    "            clear_output(wait=True)\n",
    "            print(\"Round\", r)\n",
    "            fig, ax = plt.subplots(figsize=(6,16))\n",
    "            ax.pie(miner_balances, autopct='%1.1f%%')\n",
    "            ax.legend([\"Honest miner 1\", \"Honest miner 2\", \"Honest miner 3\", \"Honest miner 4\", \"Honest miner 5\"])\n",
    "            ax.set_title(\"Share of rewards after round \"+str(r+1))\n",
    "            plt.pause(0.002)\n",
    "            plt.show()\n"
   ]
  },
  {
   "cell_type": "markdown",
   "metadata": {},
   "source": [
    "# Byzantine node submitting pre-solved problems"
   ]
  },
  {
   "cell_type": "code",
   "execution_count": 66,
   "metadata": {},
   "outputs": [
    {
     "name": "stdout",
     "output_type": "stream",
     "text": [
      "Round 999\n"
     ]
    },
    {
     "data": {
      "image/png": "[encoded data removed]",
      "text/plain": [
       "<Figure size 432x1152 with 1 Axes>"
      ]
     },
     "metadata": {},
     "output_type": "display_data"
    }
   ],
   "source": [
    "MAX_ROUNDS = 1000\n",
    "ROUND_TIMEOUT = 500 #number of train epochs before comparing model accuracies\n",
    "\n",
    "net = Network(n=5, f=1)\n",
    "\n",
    "percent = 0.5 # Percentage of problems submitted by Byzantine nodes\n",
    "\n",
    "for i in range(MAX_ROUNDS):\n",
    "    if percent> 0 and i % int(1/percent) == 0 and net.f>0:\n",
    "        net.submitProblem(Problem(net.dishonest_miners[0].submitter_address,\n",
    "                              x_train = [0, 2, 5, 1, 7, 9, 2, 3, 1, 0.5],\n",
    "                              y_train = [7, 8, 4, 9, 2, 0, 4, 6, 9, 6],\n",
    "                              x_test = [0.5, 2.1, 4.2, 0.6, 7.1, 9.2, 1, 3, 1],\n",
    "                              y_test = [6, 8, 3, 10, 2.2, 0.1, 3.2, 6.1, 8.8]))\n",
    "    else:\n",
    "        net.submitProblem(Problem(Submitter().submitter_address,\n",
    "                              x_train = [0, 2, 5, 1, 7, 9, 2, 3, 1, 0.5],\n",
    "                              y_train = [7, 8, 4, 9, 2, 0, 4, 6, 9, 6],\n",
    "                              x_test = [0.5, 2.1, 4.2, 0.6, 7.1, 9.2, 1, 3, 1],\n",
    "                              y_test = [6, 8, 3, 10, 2.2, 0.1, 3.2, 6.1, 8.8]))\n",
    "\n",
    "n_problems = len(net.problem_pool)\n",
    "for r in range(n_problems):\n",
    "    #print(f\"--START OF ROUND {r}--\")\n",
    "    #print(\"-Training Phase-\")\n",
    "\n",
    "    #print(\"   Submitter sending train data to miners\")\n",
    "    submitter_r = net.getProblem()\n",
    "    for miner in net.miners:\n",
    "        miner.initRound()\n",
    "        submitter_r.sendTrainDataToMiner(miner)\n",
    "    \n",
    "    #print(\"   Miners training...\")\n",
    "    for miner in net.miners:\n",
    "        if isinstance(miner, ByzantineMiner) and submitter_r.submitter_address == miner.submitter_address:\n",
    "            miner.preSolvedProblem()\n",
    "        else:\n",
    "            miner.train()\n",
    "    #print(\"   Training timeout\")\n",
    "\n",
    "    #print(\"   Miners sending model hashes to submitter\")\n",
    "    for miner in net.miners:\n",
    "        miner.sendModelHashToSubmitter(submitter_r)\n",
    "   \n",
    "    #print(\"-Evaluation Phase-\")\n",
    "    #print(\"   Submitter broadcasting X_test\")\n",
    "    for miner in net.miners:\n",
    "        submitter_r.sendXTestToMiner(miner)\n",
    "        \n",
    "    #print(\"   Miners predicting Y_test^hat\")\n",
    "    for miner in net.miners:\n",
    "        miner.predictYHat()\n",
    "    \n",
    "    #print(\"   Miners sending Y_test^hat to submitter\")\n",
    "    for miner in net.miners:\n",
    "        miner.sendYHat(submitter_r)\n",
    "    \n",
    "    #print(\"   Submitter computing losses\")\n",
    "    submitter_r.computeTestLosses()\n",
    "    \n",
    "    #print(\"-Awarding phase-\")\n",
    "    while len(submitter_r.losses)>0 and not submitter_r.consensus:\n",
    "        submitter_r.consensus = True\n",
    "        winner = submitter_r.getMinerWithMinLoss()\n",
    "        #print(\"   Miner with a greater model:\",winner)\n",
    "        #print(\"   Submitter sending signed certificate of win\")\n",
    "        submitter_r.sendWinCertificate()\n",
    "        #print(\"   Submitter broadcasting info to miners to validate Block\")\n",
    "        for miner in net.miners:\n",
    "            submitter_r.sendHashAndYHat(miner)\n",
    "        #print(\"   Winner broadcasting Block\")\n",
    "        winner.broadcastBlock(net)\n",
    "    \n",
    "    #print(f\"--END OF ROUND {r}--\\n\")\n",
    "    net.updateLongestChain()\n",
    "    #print(net.longest_chain, \"\\n\")\n",
    "    \n",
    "    miner_balances = [net.getBalance(net.miners[i].miner_address) for i in range(net.n)]\n",
    "    plt.ion()\n",
    "    if sum(miner_balances) != 0:\n",
    "        if (r+1)%50 == 0 or r+1==MAX_ROUNDS:\n",
    "            clear_output(wait=True)\n",
    "            print(\"Round\", r)\n",
    "            fig, ax = plt.subplots(figsize=(6,16))\n",
    "            ax.pie(miner_balances, autopct='%1.1f%%')\n",
    "            ax.legend([\"Honest miner 1\", \"Honest miner 2\", \"Honest miner 3\", \"Honest miner 4\", \"Byzantine miner 5\"],loc=1)\n",
    "            ax.set_title(\"Share of rewards after round \"+str(r+1))\n",
    "            plt.pause(0.002)\n",
    "            plt.show()\n"
   ]
  },
  {
   "cell_type": "markdown",
   "metadata": {},
   "source": [
    "# Plot balances"
   ]
  },
  {
   "cell_type": "code",
   "execution_count": 52,
   "metadata": {},
   "outputs": [
    {
     "name": "stdout",
     "output_type": "stream",
     "text": [
      "[480.0, 522.5, 520.0, 457.5, 520.0]\n",
      "[<__main__.Miner object at 0x000001E1C6B3EA00>, <__main__.Miner object at 0x000001E1C6B3EAF0>, <__main__.Miner object at 0x000001E1C6B3EB80>, <__main__.Miner object at 0x000001E1C6B3EBB0>, <__main__.ByzantineMiner object at 0x000001E1C6B3EBE0>]\n"
     ]
    }
   ],
   "source": [
    "miner_balances = [net.getBalance(net.miners[i].miner_address) for i in range(net.n)]\n",
    "print(miner_balances)\n",
    "print(net.miners)"
   ]
  },
  {
   "cell_type": "code",
   "execution_count": 1108,
   "metadata": {},
   "outputs": [
    {
     "data": {
      "image/png": "[encoded data removed]",
      "text/plain": [
       "<Figure size 432x288 with 1 Axes>"
      ]
     },
     "metadata": {},
     "output_type": "display_data"
    }
   ],
   "source": [
    "if sum(miner_balances) != 0:\n",
    "    fig, ax = plt.subplots()\n",
    "    ax.pie(miner_balances)\n",
    "    plt.show()"
   ]
  },
  {
   "cell_type": "code",
   "execution_count": 1000,
   "metadata": {},
   "outputs": [
    {
     "name": "stdout",
     "output_type": "stream",
     "text": [
      "0xd41559fddb2d09b6639a13719e48e8b7e1f5dd21ea8846284bd209d22c431303\n",
      "0\n",
      "20\n"
     ]
    }
   ],
   "source": [
    "net = Network(n=5, f=2)\n",
    "random_guy = generateAddress()\n",
    "print(random_guy)\n",
    "print(net.getBalance(random_guy))\n",
    "net.longest_chain.append(Block([Mint(random_guy, 20)], 0, 0, net.miners[4].miner_address))\n",
    "net.longest_chain.append(Block([], 0, 0, net.miners[2].miner_address))\n",
    "net.longest_chain.append(Block([], 0, 0, net.miners[1].miner_address))\n",
    "net.longest_chain.append(Block([], 0, 0, net.miners[3].miner_address))\n",
    "net.longest_chain.append(Block([], 0, 0, net.miners[4].miner_address))\n",
    "print(net.getBalance(random_guy))"
   ]
  },
  {
   "cell_type": "code",
   "execution_count": 28,
   "metadata": {},
   "outputs": [
    {
     "ename": "NameError",
     "evalue": "name 'net' is not defined",
     "output_type": "error",
     "traceback": [
      "\u001b[1;31m---------------------------------------------------------------------------\u001b[0m",
      "\u001b[1;31mNameError\u001b[0m                                 Traceback (most recent call last)",
      "\u001b[1;32m<ipython-input-28-67e8a2bade1a>\u001b[0m in \u001b[0;36m<module>\u001b[1;34m\u001b[0m\n\u001b[0;32m      3\u001b[0m \u001b[1;33m\u001b[0m\u001b[0m\n\u001b[0;32m      4\u001b[0m \u001b[0mplt\u001b[0m\u001b[1;33m.\u001b[0m\u001b[0mscatter\u001b[0m\u001b[1;33m(\u001b[0m\u001b[0mx\u001b[0m\u001b[1;33m,\u001b[0m \u001b[0my\u001b[0m\u001b[1;33m)\u001b[0m\u001b[1;33m\u001b[0m\u001b[1;33m\u001b[0m\u001b[0m\n\u001b[1;32m----> 5\u001b[1;33m \u001b[0mplt\u001b[0m\u001b[1;33m.\u001b[0m\u001b[0mplot\u001b[0m\u001b[1;33m(\u001b[0m\u001b[1;33m[\u001b[0m\u001b[0mnet\u001b[0m\u001b[1;33m.\u001b[0m\u001b[0mminers\u001b[0m\u001b[1;33m[\u001b[0m\u001b[1;36m0\u001b[0m\u001b[1;33m]\u001b[0m\u001b[1;33m.\u001b[0m\u001b[0mw0\u001b[0m \u001b[1;33m+\u001b[0m \u001b[0mnet\u001b[0m\u001b[1;33m.\u001b[0m\u001b[0mminers\u001b[0m\u001b[1;33m[\u001b[0m\u001b[1;36m0\u001b[0m\u001b[1;33m]\u001b[0m\u001b[1;33m.\u001b[0m\u001b[0mw1\u001b[0m\u001b[1;33m*\u001b[0m\u001b[0mi\u001b[0m \u001b[1;32mfor\u001b[0m \u001b[0mi\u001b[0m \u001b[1;32min\u001b[0m \u001b[0mrange\u001b[0m\u001b[1;33m(\u001b[0m\u001b[0mint\u001b[0m\u001b[1;33m(\u001b[0m\u001b[0mmin\u001b[0m\u001b[1;33m(\u001b[0m\u001b[0mx\u001b[0m\u001b[1;33m)\u001b[0m\u001b[1;33m)\u001b[0m\u001b[1;33m,\u001b[0m \u001b[0mint\u001b[0m\u001b[1;33m(\u001b[0m\u001b[0mmax\u001b[0m\u001b[1;33m(\u001b[0m\u001b[0mx\u001b[0m\u001b[1;33m)\u001b[0m\u001b[1;33m)\u001b[0m\u001b[1;33m+\u001b[0m\u001b[1;36m1\u001b[0m\u001b[1;33m)\u001b[0m\u001b[1;33m]\u001b[0m\u001b[1;33m)\u001b[0m\u001b[1;33m\u001b[0m\u001b[1;33m\u001b[0m\u001b[0m\n\u001b[0m\u001b[0;32m      6\u001b[0m \u001b[0mplt\u001b[0m\u001b[1;33m.\u001b[0m\u001b[0mshow\u001b[0m\u001b[1;33m(\u001b[0m\u001b[1;33m)\u001b[0m\u001b[1;33m\u001b[0m\u001b[1;33m\u001b[0m\u001b[0m\n",
      "\u001b[1;32m<ipython-input-28-67e8a2bade1a>\u001b[0m in \u001b[0;36m<listcomp>\u001b[1;34m(.0)\u001b[0m\n\u001b[0;32m      3\u001b[0m \u001b[1;33m\u001b[0m\u001b[0m\n\u001b[0;32m      4\u001b[0m \u001b[0mplt\u001b[0m\u001b[1;33m.\u001b[0m\u001b[0mscatter\u001b[0m\u001b[1;33m(\u001b[0m\u001b[0mx\u001b[0m\u001b[1;33m,\u001b[0m \u001b[0my\u001b[0m\u001b[1;33m)\u001b[0m\u001b[1;33m\u001b[0m\u001b[1;33m\u001b[0m\u001b[0m\n\u001b[1;32m----> 5\u001b[1;33m \u001b[0mplt\u001b[0m\u001b[1;33m.\u001b[0m\u001b[0mplot\u001b[0m\u001b[1;33m(\u001b[0m\u001b[1;33m[\u001b[0m\u001b[0mnet\u001b[0m\u001b[1;33m.\u001b[0m\u001b[0mminers\u001b[0m\u001b[1;33m[\u001b[0m\u001b[1;36m0\u001b[0m\u001b[1;33m]\u001b[0m\u001b[1;33m.\u001b[0m\u001b[0mw0\u001b[0m \u001b[1;33m+\u001b[0m \u001b[0mnet\u001b[0m\u001b[1;33m.\u001b[0m\u001b[0mminers\u001b[0m\u001b[1;33m[\u001b[0m\u001b[1;36m0\u001b[0m\u001b[1;33m]\u001b[0m\u001b[1;33m.\u001b[0m\u001b[0mw1\u001b[0m\u001b[1;33m*\u001b[0m\u001b[0mi\u001b[0m \u001b[1;32mfor\u001b[0m \u001b[0mi\u001b[0m \u001b[1;32min\u001b[0m \u001b[0mrange\u001b[0m\u001b[1;33m(\u001b[0m\u001b[0mint\u001b[0m\u001b[1;33m(\u001b[0m\u001b[0mmin\u001b[0m\u001b[1;33m(\u001b[0m\u001b[0mx\u001b[0m\u001b[1;33m)\u001b[0m\u001b[1;33m)\u001b[0m\u001b[1;33m,\u001b[0m \u001b[0mint\u001b[0m\u001b[1;33m(\u001b[0m\u001b[0mmax\u001b[0m\u001b[1;33m(\u001b[0m\u001b[0mx\u001b[0m\u001b[1;33m)\u001b[0m\u001b[1;33m)\u001b[0m\u001b[1;33m+\u001b[0m\u001b[1;36m1\u001b[0m\u001b[1;33m)\u001b[0m\u001b[1;33m]\u001b[0m\u001b[1;33m)\u001b[0m\u001b[1;33m\u001b[0m\u001b[1;33m\u001b[0m\u001b[0m\n\u001b[0m\u001b[0;32m      6\u001b[0m \u001b[0mplt\u001b[0m\u001b[1;33m.\u001b[0m\u001b[0mshow\u001b[0m\u001b[1;33m(\u001b[0m\u001b[1;33m)\u001b[0m\u001b[1;33m\u001b[0m\u001b[1;33m\u001b[0m\u001b[0m\n",
      "\u001b[1;31mNameError\u001b[0m: name 'net' is not defined"
     ]
    },
    {
     "data": {
      "image/png": "[encoded data removed]",
      "text/plain": [
       "<Figure size 432x288 with 1 Axes>"
      ]
     },
     "metadata": {
      "needs_background": "light"
     },
     "output_type": "display_data"
    }
   ],
   "source": [
    "x = [0, 2, 5, 1, 7, 9, 2, 3, 1, 0.5, 0.5, 2.1, 4.2, 0.6, 7.1, 9.2, 1, 3, 1]\n",
    "y = [7, 8, 4, 9, 2, 0, 4, 6, 9, 6, 6, 8, 3, 10, 2.2, 0.1, 3.2, 6.1, 8.8]\n",
    "\n",
    "plt.scatter(x, y)\n",
    "plt.plot([net.miners[0].w0 + net.miners[0].w1*i for i in range(int(min(x)), int(max(x))+1)])\n",
    "plt.show()"
   ]
  },
  {
   "cell_type": "code",
   "execution_count": 656,
   "metadata": {},
   "outputs": [
    {
     "name": "stdout",
     "output_type": "stream",
     "text": [
      "8.155595731695442 -0.8708453521697761\n"
     ]
    }
   ],
   "source": [
    "def predict(_x, _w0, _w1):\n",
    "    return _w0 + _w1*_x\n",
    "       \n",
    "x_train = [0, 2, 5, 1, 7, 9, 2, 3, 1, 0.5]\n",
    "y_train = [7, 8, 4, 9, 2, 0, 4, 6, 9, 6]\n",
    "\n",
    "w0 = -1\n",
    "w1 = 2\n",
    "alpha = 0.01 #random.uniform(0.0001, 0.02)        \n",
    "n = len(y_train)\n",
    "for i in range(1000):\n",
    "    total_error = 0\n",
    "    total_error_x = 0\n",
    "    for j in range(n):\n",
    "        y_pred = predict(x_train[j], w0, w1)\n",
    "        total_error += y_train[j] - y_pred\n",
    "        total_error_x += x_train[j] * (y_train[j] - y_pred)\n",
    "    dw0 = (-2/n) * total_error\n",
    "    dw1 = (-2/n) * total_error_x\n",
    "\n",
    "    w0 -= alpha*dw0\n",
    "    w1 -= alpha*dw1\n",
    "    \n",
    "print(w0, w1)"
   ]
  },
  {
   "cell_type": "code",
   "execution_count": null,
   "metadata": {},
   "outputs": [],
   "source": []
  }
 ],
 "metadata": {
  "kernelspec": {
   "display_name": "Python 3",
   "language": "python",
   "name": "python3"
  },
  "language_info": {
   "codemirror_mode": {
    "name": "ipython",
    "version": 3
   },
   "file_extension": ".py",
   "mimetype": "text/x-python",
   "name": "python",
   "nbconvert_exporter": "python",
   "pygments_lexer": "ipython3",
   "version": "3.8.5"
  }
 },
 "nbformat": 4,
 "nbformat_minor": 4
}
