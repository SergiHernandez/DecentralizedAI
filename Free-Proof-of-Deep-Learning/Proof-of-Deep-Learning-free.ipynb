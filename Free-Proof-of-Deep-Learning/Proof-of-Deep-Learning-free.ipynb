{
 "cells": [
  {
   "cell_type": "code",
   "execution_count": 71,
   "metadata": {},
   "outputs": [],
   "source": [
    "import matplotlib.pyplot as plt\n",
    "from numpy.random import poisson\n",
    "import random\n",
    "import datetime"
   ]
  },
  {
   "cell_type": "markdown",
   "metadata": {},
   "source": [
    "# DEFINE EASY Learning task"
   ]
  },
  {
   "cell_type": "code",
   "execution_count": 72,
   "metadata": {},
   "outputs": [],
   "source": [
    "class LinearRegressionNoTarget:\n",
    "    def __init__():\n",
    "        train"
   ]
  },
  {
   "cell_type": "code",
   "execution_count": 73,
   "metadata": {},
   "outputs": [],
   "source": [
    "class LinearRegressionWithTarget:\n",
    "    pass"
   ]
  },
  {
   "cell_type": "markdown",
   "metadata": {},
   "source": [
    "# Utils"
   ]
  },
  {
   "cell_type": "code",
   "execution_count": 74,
   "metadata": {},
   "outputs": [],
   "source": [
    "def generateAddress():\n",
    "    return hex(random.randint(0, 2**256))"
   ]
  },
  {
   "cell_type": "code",
   "execution_count": 75,
   "metadata": {},
   "outputs": [],
   "source": [
    "def protocol():\n",
    "    \n",
    "    # DO WORK:\n",
    "    print(poisson(lam = 10, size=1))\n",
    "    \n",
    "    pass"
   ]
  },
  {
   "cell_type": "markdown",
   "metadata": {},
   "source": [
    "# DEFINE NETWORK ENTITIES"
   ]
  },
  {
   "cell_type": "code",
   "execution_count": 76,
   "metadata": {},
   "outputs": [],
   "source": [
    "class Miner:\n",
    "    def __init__(self):\n",
    "        super(Miner, self).__init__()\n",
    "        self.miner_address = generateAddress()\n",
    "        self.local_history = []\n",
    "        \n",
    "    def mine(self):\n",
    "        protocol()"
   ]
  },
  {
   "cell_type": "code",
   "execution_count": 77,
   "metadata": {},
   "outputs": [],
   "source": [
    "class Submitter:\n",
    "    def __init__(self):\n",
    "        super(Submitter, self).__init__()\n",
    "        self.submitter_address = generateAddress()\n",
    "        \n",
    "    def generateProblem():\n",
    "        pass\n",
    "    \n",
    "    def submitProblem():\n",
    "        pass"
   ]
  },
  {
   "cell_type": "code",
   "execution_count": 78,
   "metadata": {},
   "outputs": [],
   "source": [
    "class ByzantineMiner (Miner, Submitter):\n",
    "    def __init__(self):\n",
    "        super(ByzantineMiner, self).__init__()\n",
    "        \n",
    "    def mine(self):\n",
    "        self.attack()\n",
    "        \n",
    "    def attack(self):\n",
    "        pass"
   ]
  },
  {
   "cell_type": "code",
   "execution_count": 79,
   "metadata": {},
   "outputs": [],
   "source": [
    "class Client:\n",
    "    def __init__(self):\n",
    "        super(Client, self).__init__()\n",
    "        self.client_address = generateAddress()\n",
    "        \n",
    "    def generateTransaction():\n",
    "        pass"
   ]
  },
  {
   "cell_type": "code",
   "execution_count": 80,
   "metadata": {},
   "outputs": [],
   "source": [
    "class Block:\n",
    "    def __init__(self, data, solution, previous_hash, miner=hex(0)):\n",
    "        self.data = data #transactions\n",
    "        self.miner = miner\n",
    "        self.reward = 2.5\n",
    "        self.previous_hash = previous_hash\n",
    "        self.solution = solution\n",
    "        self.timestamp = datetime.datetime.now()\n",
    "        self.nonce = 0\n",
    "        #self.hash = self.generate_hash()"
   ]
  },
  {
   "cell_type": "code",
   "execution_count": 81,
   "metadata": {},
   "outputs": [],
   "source": [
    "class GenesisBlock(Block):\n",
    "    def __init__(self, data):\n",
    "        super(GenesisBlock, self).__init__(data, None, None)"
   ]
  },
  {
   "cell_type": "code",
   "execution_count": 82,
   "metadata": {},
   "outputs": [],
   "source": [
    "class Transaction:\n",
    "    def __init__(self, sender, receiver, amount):\n",
    "        self.sender = sender\n",
    "        self.receiver = receiver\n",
    "        self.amount = amount"
   ]
  },
  {
   "cell_type": "code",
   "execution_count": 83,
   "metadata": {},
   "outputs": [],
   "source": [
    "class Network:\n",
    "    def __init__(self, n=1, f=0):\n",
    "        self.n = n # total number of nodes\n",
    "        self.f = f # total number of dishonest nodes\n",
    "        self.longest_chain = [GenesisBlock(\"GenesisBlock\")]\n",
    "        self.honest_miners = [Miner() for i in range(n-f)]\n",
    "        self.dishonest_miners = [ByzantineMiner() for i in range(f)]\n",
    "        self.miners = self.honest_miners + self.dishonest_miners\n",
    "        for miner in self.miners:\n",
    "            miner.local_history = self.longest_chain\n",
    "        self.problem_pool = []\n",
    "        self.transaction_pool = []\n",
    "        \n",
    "    def submitProblem(self, problem):\n",
    "        self.problem_pool.append(problem)\n",
    "        \n",
    "    def getProblem(self):\n",
    "        return self.pop(0)\n",
    "    \n",
    "    def getLongestChain(self):\n",
    "        longest_size = 0\n",
    "        for miner in self.miners:\n",
    "            if len(miner.local_history) > longest_size:\n",
    "                self.longest_chain = miner.local_history\n",
    "                \n",
    "    def fillPoolWithRandomTransactions(self, n_txs=1000):\n",
    "        for i in range(n_txs):\n",
    "            self.transaction.pool.append(Transaction(generateAddress(),generateAddress(),random.randint(0, 12)))\n",
    "            \n",
    "    def getBalance(self, address):\n",
    "        balance = 0\n",
    "        for block in self.longest_chain:\n",
    "            if type(block)==type(GenesisBlock(\"\")): continue\n",
    "            if address == block.miner:\n",
    "                balance += block.reward\n",
    "            for tx in block.data:\n",
    "                if address == tx.sender:\n",
    "                    balance -= tx.amount\n",
    "                if address == tx.receiver:\n",
    "                    balance += balance\n",
    "        return balance"
   ]
  },
  {
   "cell_type": "markdown",
   "metadata": {},
   "source": [
    "# DEFINE WORLD"
   ]
  },
  {
   "cell_type": "code",
   "execution_count": 84,
   "metadata": {},
   "outputs": [],
   "source": [
    "MAX_ROUNDS = 1000\n",
    "\n",
    "net = Network(n=5, f=2)\n",
    "\n",
    "for t in range(MAX_ROUNDS):\n",
    "    pass"
   ]
  },
  {
   "cell_type": "code",
   "execution_count": 85,
   "metadata": {},
   "outputs": [],
   "source": [
    "net = Network(n=5, f=2)\n",
    "net.longest_chain.append(Block([], 0, 0, net.miners[4].miner_address))\n",
    "net.longest_chain.append(Block([], 0, 0, net.miners[2].miner_address))\n",
    "net.longest_chain.append(Block([], 0, 0, net.miners[1].miner_address))\n",
    "net.longest_chain.append(Block([], 0, 0, net.miners[3].miner_address))\n",
    "net.longest_chain.append(Block([], 0, 0, net.miners[4].miner_address))"
   ]
  },
  {
   "cell_type": "markdown",
   "metadata": {},
   "source": [
    "# Plot balances"
   ]
  },
  {
   "cell_type": "code",
   "execution_count": 86,
   "metadata": {},
   "outputs": [
    {
     "name": "stdout",
     "output_type": "stream",
     "text": [
      "[0, 2.5, 2.5, 2.5, 5.0]\n"
     ]
    }
   ],
   "source": [
    "miner_balances = [net.getBalance(net.miners[i].miner_address) for i in range(net.n)]\n",
    "print(miner_balances)"
   ]
  },
  {
   "cell_type": "code",
   "execution_count": 87,
   "metadata": {},
   "outputs": [
    {
     "data": {
      "image/png": "[encoded data removed]",
      "text/plain": [
       "<Figure size 432x288 with 1 Axes>"
      ]
     },
     "metadata": {},
     "output_type": "display_data"
    }
   ],
   "source": [
    "if sum(miner_balances) != 0:\n",
    "    fig, ax = plt.subplots()\n",
    "    ax.pie(miner_balances)\n",
    "    plt.show()"
   ]
  },
  {
   "cell_type": "code",
   "execution_count": 58,
   "metadata": {},
   "outputs": [
    {
     "name": "stdout",
     "output_type": "stream",
     "text": [
      "[9]\n"
     ]
    }
   ],
   "source": [
    "protocol()"
   ]
  },
  {
   "cell_type": "code",
   "execution_count": null,
   "metadata": {},
   "outputs": [],
   "source": []
  }
 ],
 "metadata": {
  "kernelspec": {
   "display_name": "Python 3",
   "language": "python",
   "name": "python3"
  },
  "language_info": {
   "codemirror_mode": {
    "name": "ipython",
    "version": 3
   },
   "file_extension": ".py",
   "mimetype": "text/x-python",
   "name": "python",
   "nbconvert_exporter": "python",
   "pygments_lexer": "ipython3",
   "version": "3.8.5"
  }
 },
 "nbformat": 4,
 "nbformat_minor": 4
}
